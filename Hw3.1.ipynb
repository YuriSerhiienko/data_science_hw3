{
  "nbformat": 4,
  "nbformat_minor": 0,
  "metadata": {
    "colab": {
      "provenance": [],
      "authorship_tag": "ABX9TyMnK3qDclqkOXNjpZ0g+Rq7",
      "include_colab_link": true
    },
    "kernelspec": {
      "name": "python3",
      "display_name": "Python 3"
    },
    "language_info": {
      "name": "python"
    }
  },
  "cells": [
    {
      "cell_type": "markdown",
      "metadata": {
        "id": "view-in-github",
        "colab_type": "text"
      },
      "source": [
        "<a href=\"https://colab.research.google.com/github/YuriSerhiienko/data_science_hw3/blob/main/Hw3.1.ipynb\" target=\"_parent\"><img src=\"https://colab.research.google.com/assets/colab-badge.svg\" alt=\"Open In Colab\"/></a>"
      ]
    },
    {
      "cell_type": "code",
      "execution_count": 171,
      "metadata": {
        "colab": {
          "base_uri": "https://localhost:8080/"
        },
        "id": "ImuBUPiILYKq",
        "outputId": "49ee97b0-398d-488a-aa5a-6a01c95f001e"
      },
      "outputs": [
        {
          "output_type": "stream",
          "name": "stdout",
          "text": [
            "Iteration 0: Loss = 7080821888985.328\n",
            "Iteration 100: Loss = 1673378701878.147\n",
            "Iteration 200: Loss = 1673376126866.1118\n",
            "Iteration 300: Loss = 1673373551863.9414\n",
            "Iteration 400: Loss = 1673370976871.6365\n",
            "Iteration 500: Loss = 1673368401889.1978\n",
            "Iteration 600: Loss = 1673365826916.6243\n",
            "Iteration 700: Loss = 1673363251953.9165\n",
            "Iteration 800: Loss = 1673360677001.0735\n",
            "Iteration 900: Loss = 1673358102058.0964\n",
            "Градієнтний спуск coefficients: [855.70066076  14.05312415   7.85944397]\n",
            "Градієнтний спуск intercept: 3.7346889303603343\n",
            "Аналітичне рішення coefficients: [3.78762754e+02 4.06820034e+05 1.38604950e+06]\n",
            "Аналітичне рішення intercept: -173171.6076326356\n",
            "Scikit-learn coefficients: [3.78762754e+02 4.06820034e+05 1.38604950e+06]\n",
            "Scikit-learn intercept: -173171.6076326361\n"
          ]
        }
      ],
      "source": [
        "import numpy as np\n",
        "import pandas as pd\n",
        "\n",
        "# Завантаження даних\n",
        "file_path = 'Housing.csv'\n",
        "housing_data = pd.read_csv(file_path)\n",
        "\n",
        "# Вибірка ознак та цільової змінної\n",
        "selected_features = [\"area\", \"bedrooms\", \"bathrooms\"]\n",
        "X = housing_data[selected_features].values\n",
        "ones_column = np.ones((X.shape[0], 1))\n",
        "X = np.concatenate((ones_column, X), axis=1).astype(\"int64\")\n",
        "y = housing_data[\"price\"].values.reshape(-1, 1)\n",
        "\n",
        "# Ініціалізація параметрів ваги\n",
        "theta = np.zeros((X.shape[1], 1))\n",
        "\n",
        "# Функція гіпотези регресії\n",
        "def hypothesis(theta, X):\n",
        "    return np.dot(X, theta)\n",
        "\n",
        "# Функція втрат\n",
        "def cost_function(theta, X, y):\n",
        "    m = len(y)\n",
        "    predictions = hypothesis(theta, X)\n",
        "    return (1 / (2 * m)) * np.sum(np.square(predictions - y))\n",
        "\n",
        "# Один крок градієнтного спуску\n",
        "def gradient_descent_step(theta, X, y, learning_rate):\n",
        "    m = len(y)\n",
        "    predictions = hypothesis(theta, X)\n",
        "    gradient = np.dot(X.T, (predictions - y)) / m\n",
        "    theta -= learning_rate * gradient\n",
        "    return theta\n",
        "\n",
        "# Параметри для навчання\n",
        "learning_rate = 0.00000001\n",
        "num_iterations = 1000\n",
        "\n",
        "# Цикл градієнтного спуску\n",
        "for i in range(num_iterations):\n",
        "    theta = gradient_descent_step(theta, X, y, learning_rate)\n",
        "    loss = cost_function(theta, X, y)\n",
        "    if i % 100 == 0:\n",
        "        print(f\"Iteration {i}: Loss = {loss}\")\n",
        "\n",
        "# Виведення кінцевих значень параметрів\n",
        "print(\"Градієнтний спуск coefficients:\", theta[1:].flatten())\n",
        "print(\"Градієнтний спуск intercept:\", theta[0][0])\n",
        "\n",
        "# Розв'язок аналітичним методом\n",
        "theta_analytic = np.linalg.inv(X.T @ X) @ X.T @ y\n",
        "print(\"Аналітичне рішення coefficients:\", theta_analytic[1:].flatten())\n",
        "print(\"Аналітичне рішення intercept:\", theta_analytic[0][0])\n",
        "\n",
        "# Використання Scikit-learn для порівняння\n",
        "from sklearn.linear_model import LinearRegression\n",
        "lr = LinearRegression()\n",
        "lr.fit(X[:, 1:], y)\n",
        "print(\"Scikit-learn coefficients:\", lr.coef_.flatten())\n",
        "print(\"Scikit-learn intercept:\", lr.intercept_[0])\n"
      ]
    },
    {
      "cell_type": "code",
      "source": [],
      "metadata": {
        "id": "annBq6z7Mt8y"
      },
      "execution_count": null,
      "outputs": []
    }
  ]
}