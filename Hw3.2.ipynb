{
  "nbformat": 4,
  "nbformat_minor": 0,
  "metadata": {
    "colab": {
      "provenance": [],
      "authorship_tag": "ABX9TyPbRAkTeuEwjGmwVMiIgRmv",
      "include_colab_link": true
    },
    "kernelspec": {
      "name": "python3",
      "display_name": "Python 3"
    },
    "language_info": {
      "name": "python"
    }
  },
  "cells": [
    {
      "cell_type": "markdown",
      "metadata": {
        "id": "view-in-github",
        "colab_type": "text"
      },
      "source": [
        "<a href=\"https://colab.research.google.com/github/YuriSerhiienko/data_science_hw3/blob/main/Hw3.2.ipynb\" target=\"_parent\"><img src=\"https://colab.research.google.com/assets/colab-badge.svg\" alt=\"Open In Colab\"/></a>"
      ]
    },
    {
      "cell_type": "code",
      "execution_count": 15,
      "metadata": {
        "colab": {
          "base_uri": "https://localhost:8080/"
        },
        "id": "ImuBUPiILYKq",
        "outputId": "2776025c-54f4-408e-96e3-0e21472196bb"
      },
      "outputs": [
        {
          "output_type": "stream",
          "name": "stdout",
          "text": [
            "Оптимальні ваги (градієнтний спуск): [nan nan nan nan]\n",
            "Останнє значення функції втрат: nan\n",
            "Оптимальні ваги (аналітичне рішення): [5.94853792e+04 3.45466570e+02 3.60197650e+05 1.42231966e+06]\n"
          ]
        },
        {
          "output_type": "stream",
          "name": "stderr",
          "text": [
            "<ipython-input-15-1310bec9cca6>:20: RuntimeWarning: overflow encountered in square\n",
            "  return (1/(2*m)) * np.sum((hypothesis(X, w) - y)**2)\n",
            "<ipython-input-15-1310bec9cca6>:27: RuntimeWarning: invalid value encountered in subtract\n",
            "  w = w - learning_rate * gradient\n"
          ]
        }
      ],
      "source": [
        "import numpy as np\n",
        "import pandas as pd\n",
        "from sklearn.model_selection import train_test_split\n",
        "\n",
        "file_path = 'Housing.csv'\n",
        "housing_data = pd.read_csv(file_path)\n",
        "\n",
        "features = housing_data[['area', 'bedrooms', 'bathrooms']]\n",
        "target = housing_data['price']\n",
        "features.insert(0, 'bias', 1)\n",
        "X = features.values\n",
        "y = target.values\n",
        "X_train, X_test, y_train, y_test = train_test_split(X, y, test_size=0.2, random_state=42)\n",
        "\n",
        "def hypothesis(X, w):\n",
        "    return np.dot(X, w)\n",
        "\n",
        "def cost_function(X, y, w):\n",
        "    m = len(y)\n",
        "    return (1/(2*m)) * np.sum((hypothesis(X, w) - y)**2)\n",
        "\n",
        "def gradient_descent(X, y, w, learning_rate, iterations):\n",
        "    m = len(y)\n",
        "    cost_history = []\n",
        "    for i in range(iterations):\n",
        "        gradient = (1/m) * np.dot(X.T, (hypothesis(X, w) - y))\n",
        "        w = w - learning_rate * gradient\n",
        "        cost_history.append(cost_function(X, y, w))\n",
        "    return w, cost_history\n",
        "\n",
        "def normal_equation(X, y):\n",
        "    return np.linalg.inv(X.T @ X) @ X.T @ y\n",
        "\n",
        "w_initial = np.zeros(X_train.shape[1])\n",
        "learning_rate = 0.01\n",
        "iterations = 1000\n",
        "\n",
        "w_optimal, cost_history = gradient_descent(X_train, y_train, w_initial, learning_rate, iterations)\n",
        "\n",
        "w_analytical = normal_equation(X_train, y_train)\n",
        "\n",
        "print(\"Оптимальні ваги (градієнтний спуск):\", w_optimal)\n",
        "print(\"Останнє значення функції втрат:\", cost_history[-1])\n",
        "print(\"Оптимальні ваги (аналітичне рішення):\", w_analytical)\n"
      ]
    },
    {
      "cell_type": "code",
      "source": [],
      "metadata": {
        "id": "annBq6z7Mt8y"
      },
      "execution_count": null,
      "outputs": []
    }
  ]
}