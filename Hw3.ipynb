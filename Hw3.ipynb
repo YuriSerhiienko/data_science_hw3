{
  "nbformat": 4,
  "nbformat_minor": 0,
  "metadata": {
    "colab": {
      "provenance": [],
      "authorship_tag": "ABX9TyMlD9R3skWs+2UGpUI+4Wfg",
      "include_colab_link": true
    },
    "kernelspec": {
      "name": "python3",
      "display_name": "Python 3"
    },
    "language_info": {
      "name": "python"
    }
  },
  "cells": [
    {
      "cell_type": "markdown",
      "metadata": {
        "id": "view-in-github",
        "colab_type": "text"
      },
      "source": [
        "<a href=\"https://colab.research.google.com/github/YuriSerhiienko/data_science_hw3/blob/main/Hw3.ipynb\" target=\"_parent\"><img src=\"https://colab.research.google.com/assets/colab-badge.svg\" alt=\"Open In Colab\"/></a>"
      ]
    },
    {
      "cell_type": "code",
      "execution_count": 19,
      "metadata": {
        "id": "huSm8AW4RMnX"
      },
      "outputs": [],
      "source": [
        "import numpy as np\n",
        "import pandas as pd\n",
        "from sklearn.model_selection import train_test_split\n",
        "\n",
        "file_path = 'Housing.csv'\n",
        "housing_data = pd.read_csv(file_path)"
      ]
    },
    {
      "cell_type": "code",
      "source": [
        "# Підготовка даних з логарифмічним перетворенням\n",
        "features_log_transformed = np.log1p(housing_data[['area', 'bedrooms', 'bathrooms']])\n",
        "target_log_transformed = np.log1p(housing_data['price'])\n",
        "features_log_transformed.insert(0, 'bias', 1)\n",
        "X_log = features_log_transformed.values\n",
        "y_log = target_log_transformed.values"
      ],
      "metadata": {
        "id": "KDn1lR8RcjiB"
      },
      "execution_count": 20,
      "outputs": []
    },
    {
      "cell_type": "code",
      "source": [
        "# Розділення даних на навчальну та тестову вибірки\n",
        "X_train_log, X_test_log, y_train_log, y_test_log = train_test_split(X_log, y_log, test_size=0.2, random_state=42)"
      ],
      "metadata": {
        "id": "KEBpa-uacnrA"
      },
      "execution_count": 21,
      "outputs": []
    },
    {
      "cell_type": "code",
      "source": [
        "# Функції для лінійної регресії\n",
        "def hypothesis(X, w):\n",
        "    return np.dot(X, w)\n",
        "\n",
        "def cost_function(X, y, w):\n",
        "    m = len(y)\n",
        "    return (1/(2*m)) * np.sum((hypothesis(X, w) - y)**2)\n",
        "\n",
        "def gradient_descent(X, y, w, learning_rate, iterations):\n",
        "    m = len(y)\n",
        "    cost_history = []\n",
        "    for i in range(iterations):\n",
        "        gradient = (1/m) * np.dot(X.T, (hypothesis(X, w) - y))\n",
        "        w = w - learning_rate * gradient\n",
        "        cost_history.append(cost_function(X, y, w))\n",
        "    return w, cost_history"
      ],
      "metadata": {
        "id": "Gab5d6MicqMA"
      },
      "execution_count": 22,
      "outputs": []
    },
    {
      "cell_type": "code",
      "source": [
        "# Функція для аналітичного рішення\n",
        "def normal_equation(X, y):\n",
        "    return np.linalg.inv(X.T @ X) @ X.T @ y"
      ],
      "metadata": {
        "id": "ahKlttxUctYg"
      },
      "execution_count": 23,
      "outputs": []
    },
    {
      "cell_type": "code",
      "source": [
        "# Параметри градієнтного спуску\n",
        "w_initial = np.zeros(X_train_log.shape[1])\n",
        "learning_rate = 0.01\n",
        "iterations = 1000"
      ],
      "metadata": {
        "id": "8ucV1viLcwMh"
      },
      "execution_count": 24,
      "outputs": []
    },
    {
      "cell_type": "code",
      "source": [
        "# Виконання градієнтного спуску на перетворених даних\n",
        "w_gradient_descent_log, cost_history_log = gradient_descent(X_train_log, y_train_log, w_initial, learning_rate, iterations)"
      ],
      "metadata": {
        "id": "DO5YjSQycxwQ"
      },
      "execution_count": 25,
      "outputs": []
    },
    {
      "cell_type": "code",
      "source": [
        "# Застосування нормального рівняння на перетворених даних\n",
        "w_analytical_log = normal_equation(X_train_log, y_train_log)"
      ],
      "metadata": {
        "id": "1xs_Sx-Dcza6"
      },
      "execution_count": 26,
      "outputs": []
    },
    {
      "cell_type": "code",
      "source": [
        "# Виведення результатів\n",
        "print(\"Оптимальні ваги (градієнтний спуск) після логарифмічного перетворення:\", w_gradient_descent_log)\n",
        "print(\"Останнє значення функції втрат:\", cost_history_log[-1] if cost_history_log else \"Не визначено\")\n",
        "print(\"Оптимальні ваги (аналітичне рішення на перетворених даних):\", w_analytical_log)\n",
        "\n",
        "# Порівняння результатів\n",
        "print(\"\\nПорівняння ваг від градієнтного спуску та аналітичного рішення на перетворених даних:\")\n",
        "for gd, an in zip(w_gradient_descent_log, w_analytical_log):\n",
        "    print(f\"Градієнтний спуск: {gd}, Аналітичне рішення: {an}\")\n"
      ],
      "metadata": {
        "colab": {
          "base_uri": "https://localhost:8080/"
        },
        "id": "y92FYSMtc1uI",
        "outputId": "49f832d6-07b5-4777-c2bb-f36feeb203cf"
      },
      "execution_count": 27,
      "outputs": [
        {
          "output_type": "stream",
          "name": "stdout",
          "text": [
            "Оптимальні ваги (градієнтний спуск) після логарифмічного перетворення: [0.42304628 1.65354798 0.46461767 0.28148448]\n",
            "Останнє значення функції втрат: 0.14630342848386085\n",
            "Оптимальні ваги (аналітичне рішення на перетворених даних): [10.7182724   0.42723347  0.3409093   0.62866483]\n",
            "\n",
            "Порівняння ваг від градієнтного спуску та аналітичного рішення на перетворених даних:\n",
            "Градієнтний спуск: 0.4230462766290364, Аналітичне рішення: 10.718272404518645\n",
            "Градієнтний спуск: 1.6535479752998072, Аналітичне рішення: 0.4272334688034101\n",
            "Градієнтний спуск: 0.4646176744869806, Аналітичне рішення: 0.34090929738493325\n",
            "Градієнтний спуск: 0.2814844842590789, Аналітичне рішення: 0.6286648259930461\n"
          ]
        }
      ]
    }
  ]
}